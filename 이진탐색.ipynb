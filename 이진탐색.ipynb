{
 "cells": [
  {
   "cell_type": "markdown",
   "metadata": {},
   "source": [
    "# 이진탐색(Binary Search)"
   ]
  },
  {
   "cell_type": "markdown",
   "metadata": {},
   "source": [
    "Let's suppose you are running automatic build systems\n",
    "\n",
    "[s,s,s,f,f,f,f] (s:build sucess, f:build faliled)\n",
    "\n",
    "Find first failed build in time complexity O(log N)"
   ]
  },
  {
   "cell_type": "code",
   "execution_count": 9,
   "metadata": {
    "collapsed": true
   },
   "outputs": [],
   "source": [
    "#이진탐색 함수\n",
    "#ㅣ:첫번째 인덱스, r: 마지막 인덱스\n",
    "def binary_search(input,l,r):\n",
    "    if len(input) < 1:\n",
    "        return -1\n",
    "    \n",
    "    while l < r:\n",
    "        mid = (l + r) // 2\n",
    "        if input[mid] =='f':\n",
    "            r = mid\n",
    "        else:\n",
    "            l = mid + 1 \n",
    "    return l if input[l] =='f' else -1"
   ]
  },
  {
   "cell_type": "code",
   "execution_count": 10,
   "metadata": {},
   "outputs": [
    {
     "data": {
      "text/plain": [
       "3"
      ]
     },
     "execution_count": 10,
     "metadata": {},
     "output_type": "execute_result"
    }
   ],
   "source": [
    "input = ['s','s','s','f','f','f','f','f','f']\n",
    "binary_search(input,0,len(input)-1)"
   ]
  }
 ],
 "metadata": {
  "kernelspec": {
   "display_name": "Python 3",
   "language": "python",
   "name": "python3"
  },
  "language_info": {
   "codemirror_mode": {
    "name": "ipython",
    "version": 3
   },
   "file_extension": ".py",
   "mimetype": "text/x-python",
   "name": "python",
   "nbconvert_exporter": "python",
   "pygments_lexer": "ipython3",
   "version": "3.6.3"
  }
 },
 "nbformat": 4,
 "nbformat_minor": 2
}

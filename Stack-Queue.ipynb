{
 "cells": [
  {
   "cell_type": "markdown",
   "metadata": {},
   "source": [
    "# 스택(stack)"
   ]
  },
  {
   "cell_type": "markdown",
   "metadata": {},
   "source": [
    "스택은 컴퓨터에서 사용되는 기본 데이터 구조 중 하나로 데이터를 후입선출(LIFO : Last In, First Out, FILO : First In, Last Out) 구조로 유지하는 추상 데이터형(abstract data type)을 말한다."
   ]
  },
  {
   "cell_type": "markdown",
   "metadata": {},
   "source": [
    "### Python으로 Stack 구현하기"
   ]
  },
  {
   "cell_type": "code",
   "execution_count": 1,
   "metadata": {
    "collapsed": true
   },
   "outputs": [],
   "source": [
    "#stack class\n",
    "class stack:\n",
    "    def __init__(self):\n",
    "        self.items = []\n",
    "    \n",
    "    def push(self,item):\n",
    "        self.items.append(item)\n",
    "        \n",
    "    def pop(self):\n",
    "        return self.items.pop()\n",
    "    \n",
    "    def isEmpty(self):\n",
    "        return not self.items"
   ]
  },
  {
   "cell_type": "code",
   "execution_count": 57,
   "metadata": {},
   "outputs": [
    {
     "name": "stdout",
     "output_type": "stream",
     "text": [
      "<__main__.stack object at 0x0000023512D382E8>\n",
      "True\n",
      "[1, 2]\n",
      "2\n",
      "1\n",
      "True\n"
     ]
    }
   ],
   "source": [
    "stk = stack() # stack 객체 생성\n",
    "print(stk) # stack 객체 생성확인\n",
    "print(stk.isEmpty())\n",
    "stk.push(1) # 1 넣음\n",
    "stk.push(2) # 2 넣음\n",
    "print(stk.items)\n",
    "print(stk.pop()) # 2 꺼내지면서 출력\n",
    "print(stk.pop()) # 1 꺼내지면서 출력\n",
    "print(stk.isEmpty()) # 아무것도 없으므로 True 출력"
   ]
  },
  {
   "cell_type": "markdown",
   "metadata": {},
   "source": [
    "# 큐(Queue)"
   ]
  },
  {
   "cell_type": "markdown",
   "metadata": {},
   "source": [
    "한쪽 끝으로 자료를 넣고, 반대쪽에서는 자료를 뺄 수 있는 선형구조인 FIFO(First in, First out)구조를 유지한다.\n"
   ]
  },
  {
   "cell_type": "markdown",
   "metadata": {},
   "source": [
    "### Python으로 Queue 구현하기"
   ]
  },
  {
   "cell_type": "code",
   "execution_count": 54,
   "metadata": {
    "collapsed": true
   },
   "outputs": [],
   "source": [
    "class Queue:\n",
    "    def __init__(self):\n",
    "        self.items = []\n",
    "    def Enqueue(self,item):\n",
    "        self.items.append(item)\n",
    "        return None\n",
    "    \n",
    "    def Dequeue(self):\n",
    "        item_length = len(self.items)\n",
    "        if item_length < 1:\n",
    "            print('queue is empty')\n",
    "            return False\n",
    "        result =self.items[0]\n",
    "        del self.items[0]\n",
    "        return result\n",
    "    def isEmpty(self):\n",
    "        return not self.items\n",
    "        "
   ]
  },
  {
   "cell_type": "code",
   "execution_count": 56,
   "metadata": {},
   "outputs": [
    {
     "name": "stdout",
     "output_type": "stream",
     "text": [
      "<__main__.Queue object at 0x0000023512D389B0>\n",
      "[1, 2]\n",
      "1\n",
      "2\n",
      "queue is empty\n",
      "False\n"
     ]
    }
   ],
   "source": [
    "que =Queue() #queue 객체 생성\n",
    "print(que)\n",
    "que.Enqueue(1) # 1 삽입\n",
    "que.Enqueue(2) # 2 삽입\n",
    "print(que.items)\n",
    "print(que.Dequeue())\n",
    "print(que.Dequeue())\n",
    "print(que.Dequeue())"
   ]
  }
 ],
 "metadata": {
  "kernelspec": {
   "display_name": "Python 3",
   "language": "python",
   "name": "python3"
  },
  "language_info": {
   "codemirror_mode": {
    "name": "ipython",
    "version": 3
   },
   "file_extension": ".py",
   "mimetype": "text/x-python",
   "name": "python",
   "nbconvert_exporter": "python",
   "pygments_lexer": "ipython3",
   "version": "3.6.3"
  }
 },
 "nbformat": 4,
 "nbformat_minor": 2
}
